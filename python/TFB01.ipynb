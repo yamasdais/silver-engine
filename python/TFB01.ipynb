{
 "cells": [
  {
   "cell_type": "code",
   "execution_count": null,
   "metadata": {
    "collapsed": true
   },
   "outputs": [],
   "source": [
    "import tensorflow as tf\n",
    "import numpy as np\n",
    "import matplotlib.pyplot as plt\n",
    "import time"
   ]
  },
  {
   "cell_type": "code",
   "execution_count": null,
   "metadata": {
    "collapsed": true
   },
   "outputs": [],
   "source": [
    "with tf.device('/GPU:0'):\n",
    "    # '/cpu:0', '/GPU:0'\n",
    "    x = tf.placeholder(tf.float32, [None, 5])\n",
    "    w = tf.Variable(tf.zeros([5, 1]))\n",
    "    y = tf.matmul(x, w)\n",
    "    t = tf.placeholder(tf.float32, [None, 1])\n",
    "    loss = tf.reduce_sum(tf.square(y - t))\n",
    "    train_step = tf.train.AdamOptimizer().minimize(loss)"
   ]
  },
  {
   "cell_type": "code",
   "execution_count": null,
   "metadata": {
    "collapsed": true,
    "scrolled": true
   },
   "outputs": [],
   "source": [
    "%%time\n",
    "with tf.Session(config=tf.ConfigProto(log_device_placement=True)) as sess:\n",
    "    sess.run(tf.global_variables_initializer())\n",
    "    train_t = np.array([5.2, 5.7, 8.6, 14.9, 18.2, 20.4, 25.5, 26.4, 22.8, 17.5, 11.1, 6.6])\n",
    "    train_t = train_t.reshape([12, 1])\n",
    "    \n",
    "    train_x = np.zeros([12, 5])\n",
    "    for row, month in enumerate(range(1, 13)):\n",
    "        for col, n in enumerate(range(0, 5)):\n",
    "            train_x[row][col] = month ** n\n",
    "    \n",
    "    i = 0\n",
    "    for _ in range(100000):\n",
    "        i += 1\n",
    "        sess.run(train_step, feed_dict={x: train_x, t: train_t})\n",
    "        if i % 10000 == 0:\n",
    "            loss_val = sess.run(loss, feed_dict={x: train_x, t: train_t})\n",
    "            print ('Step: %d, Loss: %f' % (i, loss_val))\n",
    "    w_val = sess.run(w)\n",
    "    print(w_val)"
   ]
  },
  {
   "cell_type": "markdown",
   "metadata": {},
   "source": [
    "### GPUあり\n",
    "```\n",
    "Wall time: 4min 42s\n",
    "Wall time: 50.9 s\n",
    "```\n",
    "### CPU\n",
    "```\n",
    "Wall time: 54 s\n",
    "Wall time: 1min 6s\n",
    "```"
   ]
  },
  {
   "cell_type": "code",
   "execution_count": null,
   "metadata": {
    "collapsed": true
   },
   "outputs": [],
   "source": [
    "def predict(x):\n",
    "    result = 0.0\n",
    "    for n in range(0, 5):\n",
    "        result += w_val[n][0] * x ** n\n",
    "    return result"
   ]
  },
  {
   "cell_type": "code",
   "execution_count": null,
   "metadata": {
    "collapsed": true
   },
   "outputs": [],
   "source": [
    "%matplotlib inline\n",
    "plt.style.use('ggplot')\n",
    "font = {'family' : 'meiryo'}\n",
    "fig = plt.figure()\n",
    "subplot = fig.add_subplot(1, 1, 1)\n",
    "subplot.set_xlim(1, 12)\n",
    "subplot.scatter(range(1, 13), train_t)\n",
    "linex = np.linspace(1, 12, 100)\n",
    "liney = predict(linex)\n",
    "subplot.plot(linex, liney)"
   ]
  }
 ],
 "metadata": {
  "kernelspec": {
   "display_name": "tensorflow",
   "language": "python",
   "name": "tensorflow"
  },
  "language_info": {
   "codemirror_mode": {
    "name": "ipython",
    "version": 3
   },
   "file_extension": ".py",
   "mimetype": "text/x-python",
   "name": "python",
   "nbconvert_exporter": "python",
   "pygments_lexer": "ipython3",
   "version": "3.6.3"
  }
 },
 "nbformat": 4,
 "nbformat_minor": 2
}
