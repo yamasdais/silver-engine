{
 "cells": [
  {
   "cell_type": "code",
   "execution_count": 8,
   "metadata": {
    "collapsed": true
   },
   "outputs": [],
   "source": [
    "import tensorflow as tf\n",
    "import numpy as np\n",
    "import matplotlib.pyplot as plt"
   ]
  },
  {
   "cell_type": "code",
   "execution_count": 9,
   "metadata": {
    "collapsed": true
   },
   "outputs": [],
   "source": [
    "x = tf.placeholder(tf.float32, [None, 5])\n",
    "w = tf.Variable(tf.zeros([5, 1]))\n",
    "y = tf.matmul(x, w)"
   ]
  },
  {
   "cell_type": "code",
   "execution_count": 10,
   "metadata": {},
   "outputs": [],
   "source": [
    "t = tf.placeholder(tf.float32, [None, 1])\n",
    "loss = tf.reduce_sum(tf.square(y - t))"
   ]
  },
  {
   "cell_type": "code",
   "execution_count": 11,
   "metadata": {
    "collapsed": true
   },
   "outputs": [],
   "source": [
    "train_step = tf.train.AdamOptimizer().minimize(loss)"
   ]
  },
  {
   "cell_type": "code",
   "execution_count": 21,
   "metadata": {},
   "outputs": [
    {
     "name": "stdout",
     "output_type": "stream",
     "text": [
      "Step: 10000, Loss: 31.015018\n",
      "Step: 20000, Loss: 29.294701\n",
      "Step: 30000, Loss: 28.025995\n",
      "Step: 40000, Loss: 27.321125\n",
      "Step: 50000, Loss: 25.772881\n",
      "Step: 60000, Loss: 24.780525\n",
      "Step: 70000, Loss: 23.842400\n",
      "Step: 80000, Loss: 22.976669\n",
      "Step: 90000, Loss: 22.178181\n",
      "Step: 100000, Loss: 42.597778\n",
      "Step: 110000, Loss: 20.753553\n",
      "Step: 120000, Loss: 20.128706\n",
      "Step: 130000, Loss: 19.529371\n",
      "Step: 140000, Loss: 18.985298\n",
      "Step: 150000, Loss: 18.479834\n",
      "Step: 160000, Loss: 18.012241\n",
      "Step: 170000, Loss: 17.579357\n",
      "Step: 180000, Loss: 17.178448\n",
      "Step: 190000, Loss: 16.806240\n",
      "Step: 200000, Loss: 16.461517\n",
      "[[ 6.10654736]\n",
      " [-4.04239273]\n",
      " [ 2.51062512]\n",
      " [-0.28170168]\n",
      " [ 0.00834867]]\n"
     ]
    }
   ],
   "source": [
    "with tf.Session() as sess:\n",
    "    sess.run(tf.global_variables_initializer())\n",
    "    train_t = np.array([5.2, 5.7, 8.6, 14.9, 18.2, 20.4, 25.5, 26.4, 22.8, 17.5, 11.1, 6.6])\n",
    "    train_t = train_t.reshape([12, 1])\n",
    "    \n",
    "    train_x = np.zeros([12, 5])\n",
    "    for row, month in enumerate(range(1, 13)):\n",
    "        for col, n in enumerate(range(0, 5)):\n",
    "            train_x[row][col] = month ** n\n",
    "    \n",
    "    i = 0\n",
    "    for _ in range(200000):\n",
    "        i += 1\n",
    "        sess.run(train_step, feed_dict={x: train_x, t: train_t})\n",
    "        if i % 10000 == 0:\n",
    "            loss_val = sess.run(loss, feed_dict={x: train_x, t: train_t})\n",
    "            print ('Step: %d, Loss: %f' % (i, loss_val))\n",
    "    w_val = sess.run(w)\n",
    "    print(w_val)"
   ]
  },
  {
   "cell_type": "code",
   "execution_count": 22,
   "metadata": {},
   "outputs": [],
   "source": [
    "def predict(x):\n",
    "    result = 0.0\n",
    "    for n in range(0, 5):\n",
    "        result += w_val[n][0] * x ** n\n",
    "    return result"
   ]
  },
  {
   "cell_type": "code",
   "execution_count": 26,
   "metadata": {},
   "outputs": [
    {
     "data": {
      "text/plain": [
       "[<matplotlib.lines.Line2D at 0x169d124e828>]"
      ]
     },
     "execution_count": 26,
     "metadata": {},
     "output_type": "execute_result"
    },
    {
     "data": {
      "image/png": "[encoded data removed]",
      "text/plain": [
       "<matplotlib.figure.Figure at 0x169cdff1a90>"
      ]
     },
     "metadata": {},
     "output_type": "display_data"
    }
   ],
   "source": [
    "%matplotlib inline\n",
    "plt.style.use('ggplot')\n",
    "font = {'family' : 'meiryo'}\n",
    "fig = plt.figure()\n",
    "subplot = fig.add_subplot(1, 1, 1)\n",
    "subplot.set_xlim(1, 12)\n",
    "subplot.scatter(range(1, 13), train_t)\n",
    "linex = np.linspace(1, 12, 100)\n",
    "liney = predict(linex)\n",
    "subplot.plot(linex, liney)"
   ]
  }
 ],
 "metadata": {
  "kernelspec": {
   "display_name": "tensorflow",
   "language": "python",
   "name": "tensorflow"
  },
  "language_info": {
   "codemirror_mode": {
    "name": "ipython",
    "version": 3
   },
   "file_extension": ".py",
   "mimetype": "text/x-python",
   "name": "python",
   "nbconvert_exporter": "python",
   "pygments_lexer": "ipython3",
   "version": "3.6.3"
  }
 },
 "nbformat": 4,
 "nbformat_minor": 2
}
