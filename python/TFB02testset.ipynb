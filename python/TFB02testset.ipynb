{
 "cells": [
  {
   "cell_type": "markdown",
   "metadata": {},
   "source": [
    "# 二項分類器"
   ]
  },
  {
   "cell_type": "code",
   "execution_count": null,
   "metadata": {
    "collapsed": true
   },
   "outputs": [],
   "source": [
    "import tensorflow as tf\n",
    "import numpy as np\n",
    "import matplotlib.pyplot as plt\n",
    "from numpy.random import multivariate_normal, permutation\n",
    "import pandas as pd\n",
    "from pandas import DataFrame, Series"
   ]
  },
  {
   "cell_type": "code",
   "execution_count": null,
   "metadata": {
    "collapsed": true
   },
   "outputs": [],
   "source": [
    "np.random.seed(20160512)\n",
    "\n",
    "# t = 0 非感染\n",
    "n0, mu0, variance0 = 800, [10, 11], 20\n",
    "data0 = multivariate_normal(mu0, np.eye(2) * variance0, n0)\n",
    "df0 = DataFrame(data0, columns=['x1', 'x2'])\n",
    "df0['t'] = 0\n",
    "\n",
    "# t = 1 感染\n",
    "n1, mu1, variance1 = 600, [18, 20], 22\n",
    "data1 = multivariate_normal(mu1, np.eye(2)*variance1, n1)\n",
    "df1 = DataFrame(data1, columns=['x1', 'x2'])\n",
    "df1['t'] = 1\n",
    "\n",
    "# 感染・非感染が混ざった DataFrame\n",
    "df = pd.concat([df0, df1], ignore_index=True)\n",
    "df = df.reindex(permutation(df.index)).reset_index(drop=True)\n",
    "\n",
    "# 80% をトレーニングデータにしてみる\n",
    "num_data = int(len(df)*0.8)\n",
    "train_set = df[:num_data]\n",
    "test_set = df[num_data:]"
   ]
  },
  {
   "cell_type": "code",
   "execution_count": null,
   "metadata": {},
   "outputs": [],
   "source": [
    "train_set.head()"
   ]
  },
  {
   "cell_type": "code",
   "execution_count": null,
   "metadata": {
    "collapsed": true
   },
   "outputs": [],
   "source": [
    "train_x = train_set[['x1', 'x2']].as_matrix()\n",
    "train_t = train_set['t'].as_matrix().reshape([len(train_set), 1])\n",
    "test_x = test_set[['x1', 'x2']].as_matrix()\n",
    "test_t = test_set['t'].as_matrix().reshape([len(test_set), 1])"
   ]
  },
  {
   "cell_type": "markdown",
   "metadata": {},
   "source": [
    "## 最尤推定法\n",
    "X には $x_1$, $x_2$ が入る"
   ]
  },
  {
   "cell_type": "code",
   "execution_count": null,
   "metadata": {
    "collapsed": true
   },
   "outputs": [],
   "source": [
    "with tf.device('/GPU:0'):\n",
    "    # '/cpu:0', '/GPU:0'\n",
    "    x = tf.placeholder(tf.float32, [None, 2])\n",
    "    w = tf.Variable(tf.zeros([2, 1]))\n",
    "    w0 = tf.Variable(tf.zeros([1]))\n",
    "    f = tf.matmul(x, w) + w0\n",
    "    p = tf.sigmoid(f)\n",
    "    # 誤差関数\n",
    "    t = tf.placeholder(tf.float32, [None, 1])\n",
    "    loss = -tf.reduce_sum(t*tf.log(p) + (1-t)*tf.log(1-p))\n",
    "    train_step = tf.train.AdamOptimizer().minimize(loss)\n",
    "    # 正解率\n",
    "    correct_prediction = tf.equal(tf.sign(p-0.5), tf.sign(t-0.5))\n",
    "    accuracy = tf.reduce_mean(tf.cast(correct_prediction, tf.float32))"
   ]
  },
  {
   "cell_type": "code",
   "execution_count": null,
   "metadata": {
    "scrolled": true
   },
   "outputs": [],
   "source": [
    "%%time\n",
    "# w0_val, w1_val, w2_val = 0.0, 0.0, 0.0\n",
    "with tf.Session(config=tf.ConfigProto(log_device_placement=True)) as sess:\n",
    "    sess.run(tf.global_variables_initializer())\n",
    "    i = 0\n",
    "\n",
    "    train_accuracy = []\n",
    "    test_accuracy = []\n",
    "    for _ in range(2500):\n",
    "        i += 1\n",
    "        sess.run(train_step, feed_dict={x: train_x, t: train_t})\n",
    "        acc_val = sess.run(accuracy, feed_dict={x: train_x, t: train_t})\n",
    "        train_accuracy.append(acc_val)\n",
    "        acc_val = sess.run(accuracy, feed_dict={x: test_x, t: test_t})\n",
    "        test_accuracy.append(acc_val)\n",
    "            \n",
    "    w0_val, w_val = sess.run([w0, w])\n",
    "    #global w0_val, w1_val, w2_val\n",
    "    w0_val, w1_val, w2_val = w0_val[0], w_val[0][0], w_val[1][0]\n",
    "    \n",
    "    print (\"%f %f %f\" % (w0_val, w1_val, w2_val))"
   ]
  },
  {
   "cell_type": "code",
   "execution_count": null,
   "metadata": {},
   "outputs": [],
   "source": [
    "%matplotlib inline\n",
    "train_set0 = train_set[train_set['t']==0]\n",
    "train_set1 = train_set[train_set['t']==1]\n",
    "\n",
    "fig = plt.figure(figsize = (6, 6))\n",
    "subplot = fig.add_subplot(1, 1, 1)\n",
    "subplot.set_ylim([0, 30])\n",
    "subplot.set_xlim([0, 30])\n",
    "subplot.scatter(train_set1.x1, train_set1.x2, marker='x')\n",
    "subplot.scatter(train_set0.x1, train_set0.x2, marker='o')\n",
    "\n",
    "linex = np.linspace(0, 30, 10)\n",
    "liney = -(w1_val * linex / w2_val + w0_val / w2_val)\n",
    "\n",
    "subplot.plot(linex, liney)\n",
    "\n",
    "field = [[(1 / (1 + np.exp(-(w0_val + w1_val * x1 + w2_val * x2))))\n",
    "            for x1 in np.linspace(0, 30, 100)]\n",
    "            for x2 in np.linspace(0, 30, 100)]\n",
    "subplot.imshow(field, origin='lower', extent=(0, 30, 0, 30),\n",
    "              cmap=plt.cm.gray_r, alpha=0.5)"
   ]
  },
  {
   "cell_type": "code",
   "execution_count": null,
   "metadata": {},
   "outputs": [],
   "source": [
    "fig1 = plt.figure(figsize=(8, 6))\n",
    "subplot = fig1.add_subplot(1, 1, 1)\n",
    "subplot.plot(range(len(train_accuracy)), train_accuracy,\n",
    "            linewidth = 2, label='Training set')\n",
    "subplot.plot(range(len(test_accuracy)), test_accuracy,\n",
    "            linewidth = 2, label = 'Test set')\n",
    "subplot.legend(loc = 'upper left')"
   ]
  }
 ],
 "metadata": {
  "kernelspec": {
   "display_name": "tensorflow",
   "language": "python",
   "name": "tensorflow"
  },
  "language_info": {
   "codemirror_mode": {
    "name": "ipython",
    "version": 3
   },
   "file_extension": ".py",
   "mimetype": "text/x-python",
   "name": "python",
   "nbconvert_exporter": "python",
   "pygments_lexer": "ipython3",
   "version": "3.6.3"
  }
 },
 "nbformat": 4,
 "nbformat_minor": 2
}
